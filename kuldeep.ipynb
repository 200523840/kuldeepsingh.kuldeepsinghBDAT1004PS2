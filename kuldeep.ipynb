{
 "cells": [
  {
   "cell_type": "markdown",
   "id": "58d18c8a",
   "metadata": {},
   "source": [
    "# Ques 1."
   ]
  },
  {
   "cell_type": "code",
   "execution_count": 41,
   "id": "f9bbe710",
   "metadata": {},
   "outputs": [
    {
     "name": "stdout",
     "output_type": "stream",
     "text": [
      "6\n"
     ]
    }
   ],
   "source": [
    "a = 0\n",
    "\n",
    "def b():\n",
    "  global a\n",
    "  a = c(a)\n",
    "\n",
    "def c(a):\n",
    "  return a + 2\n",
    "\n",
    "b()  # This Line calls the function b and then it calls in function c which increments the value of a by 2.Therefore, a=2.\n",
    "b()  # This Line again calls the function b and then it calls in function c which increments the value of a by 2.Therefore, a=4.\n",
    "b()  # This Line also calls the function b and then it calls in function c which increments the value of a by 2 and store it in a. Therefore, a = 6\n",
    "print(a) # It will print 6 because the global variable in whole program is not in particular block."
   ]
  },
  {
   "cell_type": "markdown",
   "id": "f5744685",
   "metadata": {},
   "source": [
    "# Ques 2."
   ]
  },
  {
   "cell_type": "code",
   "execution_count": 6,
   "id": "969a3984",
   "metadata": {},
   "outputs": [
    {
     "name": "stdout",
     "output_type": "stream",
     "text": [
      "This File \"file.txt\" is not found.\n"
     ]
    }
   ],
   "source": [
    "def file_length(fname):\n",
    "    try:\n",
    "      file = open(fname)\n",
    "      cont = file.read()\n",
    "      file.close()\n",
    "      print(len(cont))\n",
    "    except:\n",
    "      print('This File \"' + fname + '\" is not found.')\n",
    "   \n",
    "\n",
    "file_length('file.txt')"
   ]
  },
  {
   "cell_type": "markdown",
   "id": "9099ce58",
   "metadata": {},
   "source": [
    "# Ques 3."
   ]
  },
  {
   "cell_type": "code",
   "execution_count": 7,
   "id": "97c60d8e",
   "metadata": {},
   "outputs": [
    {
     "name": "stdout",
     "output_type": "stream",
     "text": [
      "I am a Kangaroo located at coordinates (0,0)\n",
      "['doll', 'firetruck', 'kitten']\n",
      "I am a Kangaroo located at coordinates (3,0)\n"
     ]
    }
   ],
   "source": [
    "class Marsupial:\n",
    "  values = []\n",
    "\n",
    "  def put_in_pouch(self, value):\n",
    "    self.values.append(value)\n",
    "\n",
    "  def pouch_contents(self):\n",
    "    print(self.values)\n",
    "\n",
    "class Kangaroo(Marsupial):\n",
    "  x = 0\n",
    "  y = 0\n",
    "\n",
    "  def __init__(self, x, y):\n",
    "    self.x = x\n",
    "    self.y = y \n",
    "\n",
    "  def jump(self, dx, dy):\n",
    "    self.x += dx\n",
    "    self.y += dy   \n",
    "\n",
    "  def __str__(self):\n",
    "      return 'I am a Kangaroo located at coordinates ('+ str(self.x) +','+ str(self.y) +')'\n",
    "\n",
    "a = Kangaroo(0, 0)\n",
    "print(a)\n",
    "a.put_in_pouch('doll')\n",
    "a.put_in_pouch('firetruck')\n",
    "a.put_in_pouch('kitten')\n",
    "a.pouch_contents()\n",
    "a.jump(1, 0)\n",
    "a.jump(1, 0)\n",
    "a.jump(1, 0)\n",
    "print(a)"
   ]
  },
  {
   "cell_type": "markdown",
   "id": "92cd9a14",
   "metadata": {},
   "source": [
    "# Ques 4."
   ]
  },
  {
   "cell_type": "code",
   "execution_count": 8,
   "id": "5661e210",
   "metadata": {},
   "outputs": [
    {
     "name": "stdout",
     "output_type": "stream",
     "text": [
      "10\n",
      "5\n",
      "16\n",
      "8\n",
      "4\n",
      "2\n",
      "1\n"
     ]
    }
   ],
   "source": [
    "a = 0\n",
    "\n",
    "def collatz(x):\n",
    "   global a\n",
    "   print(x)\n",
    "   a += 1\n",
    "   if x==1:\n",
    "     return \n",
    "   if x % 2 == 0:\n",
    "     return collatz((x // 2))\n",
    "   if x % 2 == 1:\n",
    "     return collatz(((x * 3) + 1))\n",
    "\n",
    "collatz(10)"
   ]
  },
  {
   "cell_type": "markdown",
   "id": "779dfd6d",
   "metadata": {},
   "source": [
    "# Ques 5."
   ]
  },
  {
   "cell_type": "code",
   "execution_count": 9,
   "id": "3a6d1a8e",
   "metadata": {},
   "outputs": [
    {
     "name": "stdout",
     "output_type": "stream",
     "text": [
      "1001"
     ]
    }
   ],
   "source": [
    "def binary(n):\n",
    "   if n < 2:\n",
    "    print(int(n), end = '')\n",
    "   else:\n",
    "     binary(n / 2)\n",
    "     print(int(n % 2), end = '')\n",
    "\n",
    "binary(9)"
   ]
  },
  {
   "cell_type": "markdown",
   "id": "65c41827",
   "metadata": {},
   "source": [
    "# Ques 6."
   ]
  },
  {
   "cell_type": "code",
   "execution_count": 32,
   "id": "3d172b40",
   "metadata": {},
   "outputs": [
    {
     "name": "stdout",
     "output_type": "stream",
     "text": [
      "My name is Kuldeep singh.\n",
      "W3c Mission\n",
      "    Principles\n",
      "\n"
     ]
    }
   ],
   "source": [
    "from html.parser import HTMLParser\n",
    "\n",
    "class HeadingParser(HTMLParser):\n",
    "\n",
    "  def __init__(self):\n",
    "        HTMLParser.__init__(self)\n",
    "        self.inLink = False\n",
    "        self.dataArray = []\n",
    "        self.countLanguages = 0\n",
    "        self.lasttag = None\n",
    "        self.lastname = None\n",
    "        self.lastvalue = None\n",
    "\n",
    "  def handle_starttag(self, tag, attrs):\n",
    "        self.inLink = False\n",
    "        if tag == 'h1' or tag == 'h2' or tag == 'h3' or tag == 'h4' or tag == 'h5' or tag == 'h6':\n",
    "           self.countLanguages += 1\n",
    "           self.inLink = True\n",
    "           self.lasttag = tag\n",
    "\n",
    "  def handle_endtag(self, tag):\n",
    "        if tag == \"h1\" or tag == \"h2\" or tag == \"h3\" or tag == \"h4\" or tag == \"h5\" or tag == \"h6\":\n",
    "            self.inlink = False\n",
    "\n",
    "  def handle_data(self, data):\n",
    "        if self.lasttag == 'h1' or self.lasttag == 'h2' or self.lasttag == 'h3' or self.lasttag == 'h4' or self.lasttag == 'h5' or self.lasttag == 'h6' and self.inLink and data.strip():\n",
    "            print(data, end = \"\")\n",
    "\n",
    "\n",
    "\n",
    "infile = open('w3c.html')\n",
    "content = infile.read()\n",
    "infile.close()\n",
    "hp = HeadingParser()\n",
    "hp.feed(content)"
   ]
  },
  {
   "cell_type": "markdown",
   "id": "ff64c025",
   "metadata": {},
   "source": [
    "# Ques 7."
   ]
  },
  {
   "cell_type": "code",
   "execution_count": 40,
   "id": "3c26a217",
   "metadata": {},
   "outputs": [],
   "source": [
    "from urllib.request import urljoin\n",
    "from bs4 import BeautifulSoup\n",
    "import requests\n",
    "from urllib.request import urlparse\n",
    "\n",
    "def webdir(url, depth, indent):\n",
    "    temp_url = set()\n",
    "    currenturl_domain = urlparse(url).netloc\n",
    "    beautifulsoup_object = BeautifulSoup(\n",
    "    requests.get(url).content, \"lxml\")\n",
    "\n",
    "    for sk in beautifulsoup_object.findAll(\"a\"):\n",
    "        href = sk.attrs.get(\"href\")\n",
    "        if(href != \"\" or href != None):\n",
    "            href = urljoin(url, href)\n",
    "            href_parsed = urlparse(href)\n",
    "            href = href_parsed.scheme\n",
    "            href += \"://\"\n",
    "            href += href_parsed.netloc\n",
    "            href += href_parsed.path\n",
    "            finalparsed_href = urlparse(href)\n",
    "            is_valid = bool(finalparsed_href.scheme) and bool(\n",
    "                finalparsed_href.netloc)\n",
    "            if is_valid:\n",
    "                if currenturl_domain not in href and href not in link_ex:\n",
    "                    print(href)\n",
    "                    link_ex.add(href)\n",
    "                if currenturl_domain in href and href not in link_in:\n",
    "                print(href)\n",
    "                    link_in.add(href)\n",
    "                    temp_url.add(href)\n",
    "    return temp_url\n",
    "\n",
    "\n",
    "link_in = set()\n",
    "url = \"http://reed.cs.depaul.edu/lperkovic/csc242/test1.html\"\n",
    "depth = 1\n",
    "link_ex = set()\n",
    "\n",
    "if(depth == 0):\n",
    "    print(url)\n",
    "\n",
    "elif(depth == 1):\n",
    "    webdir(url, depth, 0)\n",
    "\n",
    "else:\n",
    "    queue = []\n",
    "    queue.append(url)\n",
    "    for k in range(depth):\n",
    "        for count in range(len(queue)):\n",
    "            urll = queue.pop(0)\n",
    "            urls = webdir(urll, depth, 0)\n",
    "            for s in urls:\n",
    "                queue.append(s)"
   ]
  },
  {
   "cell_type": "markdown",
   "id": "864c781e",
   "metadata": {},
   "source": [
    "# Ques 8."
   ]
  },
  {
   "cell_type": "code",
   "execution_count": 43,
   "id": "7d9dcc42",
   "metadata": {},
   "outputs": [
    {
     "name": "stdout",
     "output_type": "stream",
     "text": [
      "(24.8,)(28.4,)(27.9,)(27.6,)(4.2,)(8.3,)(15.7,)(10.4,)(13.6,)(20.7,)(27.7,)(22.2,)\n",
      "('Mumbai',)('London',)('Cairo',)\n",
      "('Mumbai', 'India', 'Winter', 24.8, 5.9)('Mumbai', 'India', 'Spring', 28.4, 16.2)('Mumbai', 'India', 'Summer', 27.9, 1549.4)('Mumbai', 'India', 'Fall', 27.6, 346)\n",
      "('Mumbai', 'India', 'Fall', 27.6, 346)('London', 'United Kingdom', 'Fall', 10.4, 218.5)('Cairo', 'Egypt', 'Fall', 22.2, 4.5)\n",
      "('Mumbai', 'India', 'Fall')('London', 'United Kingdom', 'Winter')('London', 'United Kingdom', 'Fall')\n",
      "('Cairo', 'Egypt')('Mumbai', 'India')\n",
      "(27.6,)\n",
      "('Fall', 569.0)('Spring', 192.29999999999998)('Summer', 1706.5)('Winter', 230.1)"
     ]
    }
   ],
   "source": [
    "import sqlite3\n",
    "\n",
    "conn = sqlite3.connect('kuldeep.db')\n",
    "\n",
    "conn.execute('''\n",
    "CREATE TABLE IF NOT EXISTS teams(city text, \n",
    "                      country text, \n",
    "                      season integer, \n",
    "                      temperature integer,\n",
    "                      rainfall integer);''')\n",
    "\n",
    "conn.commit()\n",
    "\n",
    "mycursor = conn.cursor()\n",
    "\n",
    "conn.execute(\"INSERT INTO teams VALUES('Mumbai', 'India', 'Winter', 24.8, 5.9);\")\n",
    "conn.execute(\"INSERT INTO teams VALUES('Mumbai', 'India', 'Spring', 28.4, 16.2);\")\n",
    "conn.execute(\"INSERT INTO teams VALUES('Mumbai', 'India', 'Summer', 27.9, 1549.4);\")\n",
    "conn.execute(\"INSERT INTO teams VALUES('Mumbai', 'India', 'Fall', 27.6, 346.0);\")\n",
    "conn.execute(\"INSERT INTO teams VALUES('London', 'United Kingdom', 'Winter', 4.2, 207.7);\")\n",
    "conn.execute(\"INSERT INTO teams VALUES('London', 'United Kingdom', 'Spring', 8.3, 169.6 );\")\n",
    "conn.execute(\"INSERT INTO teams VALUES('London', 'United Kingdom', 'Summer', 15.7, 157.0);\")\n",
    "conn.execute(\"INSERT INTO teams VALUES('London', 'United Kingdom', 'Fall', 10.4, 218.5);\")\n",
    "conn.execute(\"INSERT INTO teams VALUES('Cairo', 'Egypt', 'Winter', 13.6, 16.5);\")\n",
    "conn.execute(\"INSERT INTO teams VALUES('Cairo', 'Egypt', 'Spring', 20.7, 6.5);\")\n",
    "conn.execute(\"INSERT INTO teams VALUES('Cairo', 'Egypt', 'Summer', 27.7, 0.1);\")\n",
    "conn.execute(\"INSERT INTO teams VALUES('Cairo', 'Egypt', 'Fall', 22.2, 4.5);\")\n",
    "\n",
    "mycursor.execute(\"SELECT temperature from teams\")\n",
    "myresult = mycursor.fetchall()\n",
    "for x in myresult:\n",
    "  print(x, end=\"\")\n",
    "\n",
    "print()\n",
    "mycursor.execute(\"SELECT DISTINCT(city) from teams\")\n",
    "myresult = mycursor.fetchall()\n",
    "for x in myresult:\n",
    "  print(x, end=\"\")\n",
    "\n",
    "print()\n",
    "mycursor.execute(\"SELECT * from teams where country = 'India'\")\n",
    "myresult = mycursor.fetchall()\n",
    "for x in myresult:\n",
    "  print(x, end=\"\")\n",
    "\n",
    "\n",
    "print()\n",
    "mycursor.execute(\"SELECT * from teams where season = 'Fall'\")\n",
    "myresult = mycursor.fetchall()\n",
    "for x in myresult:\n",
    "  print(x, end=\"\")\n",
    "\n",
    "print()\n",
    "mycursor.execute(\"SELECT city,country,season from teams where rainfall BETWEEN 200 and 400\")\n",
    "myresult = mycursor.fetchall()\n",
    "for x in myresult:\n",
    "  print(x, end=\"\")\n",
    "\n",
    "print()\n",
    "mycursor.execute(\"SELECT city,country from teams where (season = 'Fall' and temperature > 20) Order BY temperature ASC \")\n",
    "myresult = mycursor.fetchall()\n",
    "for x in myresult:\n",
    "  print(x, end=\"\")\n",
    "\n",
    "print()\n",
    "mycursor.execute(\"SELECT sum(rainfall) from teams where city = 'Cairo'\")\n",
    "myresult = mycursor.fetchall()\n",
    "for x in myresult:\n",
    "  print(x, end=\"\")\n",
    "\n",
    "print()\n",
    "mycursor.execute(\"SELECT season, sum(rainfall) from teams group by season\")\n",
    "myresult = mycursor.fetchall()\n",
    "for x in myresult:\n",
    "  print(x, end=\"\")\n",
    "\n",
    "conn.close()"
   ]
  },
  {
   "cell_type": "markdown",
   "id": "4be4e73a",
   "metadata": {},
   "source": [
    "# Ques 9."
   ]
  },
  {
   "cell_type": "code",
   "execution_count": 45,
   "id": "705b60a3",
   "metadata": {},
   "outputs": [
    {
     "name": "stdout",
     "output_type": "stream",
     "text": [
      "['THE', 'QUICK', 'BROWN', 'FOX', 'JUMPS', 'OVER', 'THE', 'LAZY', 'DOG']\n",
      "['the', 'quick', 'brown', 'fox', 'jumps', 'over', 'the', 'lazy', 'dog']\n",
      "[3, 5, 5, 3, 5, 4, 3, 4, 3]\n",
      "[['THE', 'the', 3], ['QUICK', 'quick', 5], ['BROWN', 'brown', 5], ['FOX', 'fox', 3], ['JUMPS', 'jumps', 5], ['OVER', 'over', 4], ['THE', 'the', 3], ['LAZY', 'lazy', 4], ['DOG', 'dog', 3]]\n",
      "['The', 'quick', 'brown', 'fox', 'jumps', 'over', 'the', 'lazy', 'dog']\n"
     ]
    }
   ],
   "source": [
    "words = ['The', 'quick', 'brown', 'fox', 'jumps', 'over', 'the', 'lazy', 'dog']\n",
    "print([k.upper() for k in words])\n",
    "print([k.lower() for k in words])\n",
    "print([len(k) for k in words])\n",
    "print([[k.upper(), k.lower(), len(k)]for k in words])\n",
    "print([k for k in words if len(k) >= 3])"
   ]
  },
  {
   "cell_type": "code",
   "execution_count": null,
   "id": "d013de4a",
   "metadata": {},
   "outputs": [],
   "source": []
  }
 ],
 "metadata": {
  "kernelspec": {
   "display_name": "Python 3 (ipykernel)",
   "language": "python",
   "name": "python3"
  },
  "language_info": {
   "codemirror_mode": {
    "name": "ipython",
    "version": 3
   },
   "file_extension": ".py",
   "mimetype": "text/x-python",
   "name": "python",
   "nbconvert_exporter": "python",
   "pygments_lexer": "ipython3",
   "version": "3.9.12"
  }
 },
 "nbformat": 4,
 "nbformat_minor": 5
}
